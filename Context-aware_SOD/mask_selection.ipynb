{
 "cells": [
  {
   "cell_type": "code",
   "execution_count": 1,
   "metadata": {},
   "outputs": [],
   "source": [
    "def mask_generate(result,level,img_name,generate_path):\n",
    "    level_list=[]\n",
    "    if str(1) in level:\n",
    "        level_list= [11,12]\n",
    "    if str(2) in level:\n",
    "        level_list = level_list + [13,14,15,16,17,18]\n",
    "    if str(3) in level:\n",
    "        level_list = level_list + [4,5,6,7]\n",
    "        \n",
    "    print(level_list)\n",
    "    [rows,cols] = result[0].shape\n",
    "    thre=5\n",
    "    \n",
    "    for i in range(rows):\n",
    "        for j in range(cols):\n",
    "            if result[0][i,j] in level_list:\n",
    "                result[0][i,j]=255\n",
    "                for m in range(thre*2+1):\n",
    "                    for n in range(thre*2+1):\n",
    "                        num_x = i-m\n",
    "                        num_y = j-n\n",
    "                        if (num_x >= 0) & (num_y >= 0) & (num_x<rows) & (num_y<cols):\n",
    "                             result[0][num_x,num_y] = 255\n",
    "                            \n",
    "            else:\n",
    "                result[0][i,j]=0\n",
    "                \n",
    "    output_path = os.path.join(generate_path,img_path.split('/')[-1])\n",
    "    image = Image.fromarray(result[0].astype('uint8'))\n",
    "    image.save(output_path)"
   ]
  },
  {
   "cell_type": "code",
   "execution_count": 3,
   "metadata": {},
   "outputs": [],
   "source": [
    "def mask_select(result,level_list,img_path,sod_path):\n",
    "\n",
    "    level_dict = {}\n",
    "\n",
    "    saliency = os.path.splitext(img_path)[0]+'.jpg'\n",
    "    saliecny = os.path.join(sod_path,saliency)\n",
    "    img = Image.open(saliency).convert('L')\n",
    "    img_np = np.array(img)\n",
    "    \n",
    "    [rows,cols] = result[0].shape\n",
    "    num_pix = rows * cols\n",
    "    max_value = img_np.max()\n",
    "    \n",
    "    num = 0\n",
    "    for i in range(rows):\n",
    "        for j in range(cols):       \n",
    "            if result[0][i,j] in level_list:\n",
    "                num += 1\n",
    "                if img_np[i,j]>=0.8*max_value:\n",
    "                    if result[0][i,j] not in level_dict.keys():\n",
    "                        \n",
    "                        level_dict[str(result[0][i,j])] = 1\n",
    "                    else:\n",
    "                        level_dict[str(result[0][i,j])] += 1\n",
    "    \n",
    "    output_list = []\n",
    "    for key,value in level_dict.items():\n",
    "        if int(key) in level_1:\n",
    "            if str(1) not in output_list: \n",
    "                output_list.append(\"1\")\n",
    "        elif int(key) in level_2:\n",
    "            if str(2) not in output_list: \n",
    "                output_list.append(\"2\")\n",
    "        elif int(key) in level_3:\n",
    "            if str(3) not in output_list: \n",
    "                output_list.append(\"3\")\n",
    "                \n",
    "    return output_list"
   ]
  },
  {
   "cell_type": "code",
   "execution_count": null,
   "metadata": {},
   "outputs": [
    {
     "name": "stdout",
     "output_type": "stream",
     "text": [
      "load checkpoint from local path: ../../checkpoints/deeplabv3plus_r101-d8_769x769_80k_cityscapes_20200607_000405-a7573d20.pth\n"
     ]
    }
   ],
   "source": [
    "from mmseg.apis import init_segmentor, inference_segmentor, show_result_pyplot\n",
    "from mmseg.core.evaluation import get_palette\n",
    "import os\n",
    "from PIL import Image\n",
    "import numpy as np\n",
    "\n",
    "level_1 = [11,12]                 #cityscape dataset label person\n",
    "level_2 = [13,14,15,16,17,18]     #cityscape dataset label veichles\n",
    "level_3 = [4,5,6,7]               #cityscape dataset label fence,pole,traffic light, and traffic sign\n",
    "level_all = level_1 + level_2 + level_3\n",
    "\n",
    "data_path = '../../dataset/raw_imgs'\n",
    "mask_path = '../../dataset/masks'\n",
    "sod_path = '../../dataset/sod_u2net'\n",
    "\n",
    "config_file = '../../configs/deeplabv3plus/deeplabv3plus_r101-d8_769x769_80k_cityscapes.py'\n",
    "checkpoint_file = '../../checkpoints/deeplabv3plus_r101-d8_769x769_80k_cityscapes_20200607_000405-a7573d20.pth'\n",
    "\n",
    "model = init_segmentor(config_file, checkpoint_file, device='cuda:0')\n",
    "\n",
    "images = os.listdir(data_path)\n",
    "for i in images:\n",
    "    \n",
    "    img_path = os.path.join(data_path, i)\n",
    "    \n",
    "    # image segmentation\n",
    "    result = inference_segmentor(model, img_path)\n",
    "    \n",
    "    # saliency-based mask selection considering three levels segmentation\n",
    "    mask_list = mask_select(result, level_all, img_path, sod_path)\n",
    "\n",
    "    # mask generator\n",
    "    mask = mask_generate(result,mask_list,img_path,mask_path)"
   ]
  },
  {
   "cell_type": "raw",
   "metadata": {},
   "source": []
  }
 ],
 "metadata": {
  "kernelspec": {
   "display_name": "open-mmlab",
   "language": "python",
   "name": "open-mmlab"
  },
  "language_info": {
   "codemirror_mode": {
    "name": "ipython",
    "version": 3
   },
   "file_extension": ".py",
   "mimetype": "text/x-python",
   "name": "python",
   "nbconvert_exporter": "python",
   "pygments_lexer": "ipython3",
   "version": "3.7.11"
  },
  "pycharm": {
   "stem_cell": {
    "cell_type": "raw",
    "metadata": {
     "collapsed": false
    },
    "source": []
   }
  }
 },
 "nbformat": 4,
 "nbformat_minor": 4
}
